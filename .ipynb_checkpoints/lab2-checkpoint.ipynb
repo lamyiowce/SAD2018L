{
 "cells": [
  {
   "cell_type": "code",
   "execution_count": 8,
   "metadata": {},
   "outputs": [
    {
     "name": "stderr",
     "output_type": "stream",
     "text": [
      "Loading required package: tcltk\n"
     ]
    }
   ],
   "source": [
    "library(asbio)"
   ]
  },
  {
   "cell_type": "code",
   "execution_count": 16,
   "metadata": {},
   "outputs": [],
   "source": [
    "data(prostate)"
   ]
  },
  {
   "cell_type": "code",
   "execution_count": 18,
   "metadata": {},
   "outputs": [],
   "source": [
    "help(prostate)"
   ]
  },
  {
   "cell_type": "code",
   "execution_count": 19,
   "metadata": {},
   "outputs": [
    {
     "data": {
      "text/html": [
       "<ol class=list-inline>\n",
       "\t<li>'PSA'</li>\n",
       "\t<li>'vol'</li>\n",
       "\t<li>'weight'</li>\n",
       "\t<li>'Gleason'</li>\n",
       "</ol>\n"
      ],
      "text/latex": [
       "\\begin{enumerate*}\n",
       "\\item 'PSA'\n",
       "\\item 'vol'\n",
       "\\item 'weight'\n",
       "\\item 'Gleason'\n",
       "\\end{enumerate*}\n"
      ],
      "text/markdown": [
       "1. 'PSA'\n",
       "2. 'vol'\n",
       "3. 'weight'\n",
       "4. 'Gleason'\n",
       "\n",
       "\n"
      ],
      "text/plain": [
       "[1] \"PSA\"     \"vol\"     \"weight\"  \"Gleason\""
      ]
     },
     "metadata": {},
     "output_type": "display_data"
    }
   ],
   "source": [
    "colnames(prostate)"
   ]
  },
  {
   "cell_type": "code",
   "execution_count": 20,
   "metadata": {},
   "outputs": [
    {
     "data": {
      "text/html": [
       "<ol class=list-inline>\n",
       "\t<li>97</li>\n",
       "\t<li>4</li>\n",
       "</ol>\n"
      ],
      "text/latex": [
       "\\begin{enumerate*}\n",
       "\\item 97\n",
       "\\item 4\n",
       "\\end{enumerate*}\n"
      ],
      "text/markdown": [
       "1. 97\n",
       "2. 4\n",
       "\n",
       "\n"
      ],
      "text/plain": [
       "[1] 97  4"
      ]
     },
     "metadata": {},
     "output_type": "display_data"
    }
   ],
   "source": [
    "dim(prostate)"
   ]
  },
  {
   "cell_type": "code",
   "execution_count": 21,
   "metadata": {},
   "outputs": [
    {
     "data": {
      "text/html": [
       "<table>\n",
       "<thead><tr><th scope=col>PSA</th><th scope=col>vol</th><th scope=col>weight</th><th scope=col>Gleason</th></tr></thead>\n",
       "<tbody>\n",
       "\t<tr><td>0.651 </td><td>0.5599</td><td>15.959</td><td>6     </td></tr>\n",
       "\t<tr><td>0.852 </td><td>0.3716</td><td>27.660</td><td>7     </td></tr>\n",
       "\t<tr><td>0.852 </td><td>0.6005</td><td>14.732</td><td>7     </td></tr>\n",
       "\t<tr><td>0.852 </td><td>0.3012</td><td>26.576</td><td>6     </td></tr>\n",
       "\t<tr><td>1.448 </td><td>2.1170</td><td>30.877</td><td>6     </td></tr>\n",
       "\t<tr><td>2.160 </td><td>0.3499</td><td>25.280</td><td>6     </td></tr>\n",
       "</tbody>\n",
       "</table>\n"
      ],
      "text/latex": [
       "\\begin{tabular}{r|llll}\n",
       " PSA & vol & weight & Gleason\\\\\n",
       "\\hline\n",
       "\t 0.651  & 0.5599 & 15.959 & 6     \\\\\n",
       "\t 0.852  & 0.3716 & 27.660 & 7     \\\\\n",
       "\t 0.852  & 0.6005 & 14.732 & 7     \\\\\n",
       "\t 0.852  & 0.3012 & 26.576 & 6     \\\\\n",
       "\t 1.448  & 2.1170 & 30.877 & 6     \\\\\n",
       "\t 2.160  & 0.3499 & 25.280 & 6     \\\\\n",
       "\\end{tabular}\n"
      ],
      "text/markdown": [
       "\n",
       "| PSA | vol | weight | Gleason |\n",
       "|---|---|---|---|\n",
       "| 0.651  | 0.5599 | 15.959 | 6      |\n",
       "| 0.852  | 0.3716 | 27.660 | 7      |\n",
       "| 0.852  | 0.6005 | 14.732 | 7      |\n",
       "| 0.852  | 0.3012 | 26.576 | 6      |\n",
       "| 1.448  | 2.1170 | 30.877 | 6      |\n",
       "| 2.160  | 0.3499 | 25.280 | 6      |\n",
       "\n"
      ],
      "text/plain": [
       "  PSA   vol    weight Gleason\n",
       "1 0.651 0.5599 15.959 6      \n",
       "2 0.852 0.3716 27.660 7      \n",
       "3 0.852 0.6005 14.732 7      \n",
       "4 0.852 0.3012 26.576 6      \n",
       "5 1.448 2.1170 30.877 6      \n",
       "6 2.160 0.3499 25.280 6      "
      ]
     },
     "metadata": {},
     "output_type": "display_data"
    }
   ],
   "source": [
    "head(prostate)"
   ]
  },
  {
   "cell_type": "code",
   "execution_count": null,
   "metadata": {},
   "outputs": [],
   "source": []
  }
 ],
 "metadata": {
  "kernelspec": {
   "display_name": "R",
   "language": "R",
   "name": "ir"
  },
  "language_info": {
   "codemirror_mode": "r",
   "file_extension": ".r",
   "mimetype": "text/x-r-source",
   "name": "R",
   "pygments_lexer": "r",
   "version": "3.5.2"
  }
 },
 "nbformat": 4,
 "nbformat_minor": 2
}
